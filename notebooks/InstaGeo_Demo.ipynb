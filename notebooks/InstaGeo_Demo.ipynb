{
 "cells": [
  {
   "cell_type": "markdown",
   "id": "4574f053-60d4-419b-88cc-c58d08a8177c",
   "metadata": {},
   "source": [
    "# InstaGeo Demo"
   ]
  },
  {
   "cell_type": "markdown",
   "id": "7eee5ac3",
   "metadata": {},
   "source": [
    "<a href=\"https://colab.research.google.com/github/instadeepai/InstaGeo/blob/main/notebooks/InstaGeo_Demo.ipynb\" target=\"_parent\"><img src=\"https://colab.research.google.com/assets/colab-badge.svg\" alt=\"Open In Colab\"/></a>"
   ]
  },
  {
   "cell_type": "code",
   "execution_count": null,
   "id": "4fc7ff9c",
   "metadata": {
    "colab": {
     "base_uri": "https://localhost:8080/"
    },
    "id": "4fc7ff9c",
    "outputId": "bb888e31-f3c5-4497-da9b-71853ca7dfff",
    "tags": []
   },
   "outputs": [],
   "source": [
    "from getpass import getpass\n",
    "import os\n",
    "\n",
    "github_pat = getpass('Enter your personal access token: ')"
   ]
  },
  {
   "cell_type": "code",
   "execution_count": null,
   "id": "e550a300",
   "metadata": {
    "colab": {
     "base_uri": "https://localhost:8080/"
    },
    "id": "e550a300",
    "outputId": "57a02930-a586-4b28-dc98-dab26bbcd87c",
    "tags": []
   },
   "outputs": [],
   "source": [
    "repository_url = \"https://github.com/instadeepai/InstaGeo\"\n",
    "repo_url_with_token = repository_url.replace('https://', f'https://{github_pat}@')\n",
    "\n",
    "!git clone {repo_url_with_token}"
   ]
  },
  {
   "cell_type": "code",
   "execution_count": null,
   "id": "9f7e762b",
   "metadata": {
    "colab": {
     "base_uri": "https://localhost:8080/"
    },
    "collapsed": true,
    "id": "9f7e762b",
    "jupyter": {
     "outputs_hidden": true
    },
    "outputId": "c9bf104b-9352-4254-8622-5894f8283744",
    "tags": []
   },
   "outputs": [],
   "source": [
    "%%bash\n",
    "cd InstaGeo\n",
    "pip install -e .[all]"
   ]
  },
  {
   "cell_type": "markdown",
   "id": "238c78e7-720e-49ed-b5ce-6be6567d2585",
   "metadata": {},
   "source": [
    "## EarthData Login"
   ]
  },
  {
   "cell_type": "code",
   "execution_count": null,
   "id": "8b7a5f61",
   "metadata": {
    "colab": {
     "base_uri": "https://localhost:8080/"
    },
    "id": "8b7a5f61",
    "outputId": "1d9437c6-01f1-4680-caa6-f21302bc02f0"
   },
   "outputs": [],
   "source": [
    "USERNAME = getpass('Enter your EarthDAata username: ')\n",
    "PASSWORD = getpass('Enter your EarthDAata password: ')\n",
    "\n",
    "content = f\"\"\"machine urs.earthdata.nasa.gov login {USERNAME} password {PASSWORD}\"\"\"\n",
    "\n",
    "with open(os.path.expanduser('~/.netrc'), 'w') as file:\n",
    "    file.write(content)"
   ]
  },
  {
   "cell_type": "markdown",
   "id": "488a15d3-f22e-4b2c-85c0-435c832e708c",
   "metadata": {},
   "source": [
    "## InstaGeo - Data\n",
    "\n",
    "- Searches and retrieves HLS metadata. \n",
    "- Downloads the required bands from HLS granules\n",
    "- Creates Chips and Target"
   ]
  },
  {
   "cell_type": "code",
   "execution_count": null,
   "id": "c11bfeb8-df6b-4b8c-8c8a-059a5a28b8ea",
   "metadata": {
    "colab": {
     "base_uri": "https://localhost:8080/"
    },
    "id": "c11bfeb8-df6b-4b8c-8c8a-059a5a28b8ea",
    "outputId": "2636c9ce-912a-4c36-f9c3-6fb7d15f8beb",
    "tags": []
   },
   "outputs": [],
   "source": [
    "%%bash\n",
    "mkdir demo\n",
    "python -m \"instageo.data.chip_creator\" \\\n",
    "    --dataframe_path=\"InstaGeo/tests/data/test_breeding_data.csv\" \\\n",
    "    --output_directory=\"demo\" \\\n",
    "    --min_count=4 \\\n",
    "    --chip_size=224 \\\n",
    "    --no_data_value=-1 \\\n",
    "    --temporal_tolerance=3 \\\n",
    "    --temporal_step=30 \\\n",
    "    --mask_cloud=False \\\n",
    "    --num_steps=3"
   ]
  },
  {
   "cell_type": "markdown",
   "id": "bcb132b0-04dd-4583-8e30-e6332446a0e6",
   "metadata": {},
   "source": [
    "## InstaGeo - Model"
   ]
  },
  {
   "cell_type": "markdown",
   "id": "fd313044-829c-482d-934e-9ae662f132fc",
   "metadata": {},
   "source": [
    "Create a dataframe for created chips and target that will be used with model component"
   ]
  },
  {
   "cell_type": "code",
   "execution_count": null,
   "id": "c64fee29-dca3-4611-a43a-4412a6033751",
   "metadata": {
    "id": "c64fee29-dca3-4611-a43a-4412a6033751"
   },
   "outputs": [],
   "source": [
    "import os\n",
    "import os\n",
    "import pandas as pd\n",
    "import numpy as np\n",
    "from pathlib import Path"
   ]
  },
  {
   "cell_type": "code",
   "execution_count": null,
   "id": "3b11cb3a-1940-4056-a6a7-33baa375bddb",
   "metadata": {
    "id": "3b11cb3a-1940-4056-a6a7-33baa375bddb"
   },
   "outputs": [],
   "source": [
    "root_dir = Path.cwd()\n",
    "chips_orig = os.listdir(os.path.join(root_dir, \"demo/chips\"))\n",
    "chips = [chip.replace(\"chip\", \"chips/chip\") for chip in chips_orig]\n",
    "seg_maps = [chip.replace(\"chip\", \"seg_maps/seg_map\") for chip in chips_orig]\n",
    "\n",
    "df = pd.DataFrame({\"Input\": chips, \"Label\": seg_maps})\n",
    "df.to_csv(os.path.join(root_dir, \"demo/demo_train.csv\"))\n",
    "df.to_csv(os.path.join(root_dir, \"demo/demo_val.csv\"))"
   ]
  },
  {
   "cell_type": "markdown",
   "id": "6778e394-43ef-42ee-ae24-e00122e86d10",
   "metadata": {},
   "source": [
    "Launch training"
   ]
  },
  {
   "cell_type": "code",
   "execution_count": null,
   "id": "47dc76c1-26b9-47b9-8066-5c1df499b40f",
   "metadata": {
    "colab": {
     "base_uri": "https://localhost:8080/"
    },
    "collapsed": true,
    "id": "47dc76c1-26b9-47b9-8066-5c1df499b40f",
    "jupyter": {
     "outputs_hidden": true
    },
    "outputId": "72e8f6e4-0263-431a-c313-47df5b0cbded",
    "tags": []
   },
   "outputs": [],
   "source": [
    "# %%bash\n",
    "!python -m instageo.model.run --config-name=locust \\\n",
    "    root_dir='demo' \\\n",
    "    train.batch_size=8 \\\n",
    "    train.num_epochs=3 \\\n",
    "    train_filepath=\"demo/demo_train.csv\" \\\n",
    "    valid_filepath=\"demo/demo_val.csv\""
   ]
  },
  {
   "cell_type": "markdown",
   "id": "a8a98a64-0962-40e5-a52e-1e8687198862",
   "metadata": {
    "tags": []
   },
   "source": [
    "Run Model Evaluation"
   ]
  },
  {
   "cell_type": "code",
   "execution_count": null,
   "id": "f8230588-2842-460c-b2e7-4f2f4175dc3e",
   "metadata": {
    "colab": {
     "base_uri": "https://localhost:8080/"
    },
    "collapsed": true,
    "id": "f8230588-2842-460c-b2e7-4f2f4175dc3e",
    "jupyter": {
     "outputs_hidden": true
    },
    "outputId": "94515cc4-972a-4e15-d3fe-1dc28200f848",
    "tags": []
   },
   "outputs": [],
   "source": [
    "# %%bash\n",
    "!python -m instageo.model.run --config-name=locust \\\n",
    "    root_dir='demo' \\\n",
    "    test_filepath=\"demo/demo_val.csv\" \\\n",
    "    train.batch_size=8 \\\n",
    "    checkpoint_path='outputs/2024-03-18/09-11-16/instageo_epoch-01-val_iou-0.62.ckpt' \\\n",
    "    mode=eval"
   ]
  },
  {
   "cell_type": "markdown",
   "id": "b9a73d79-f69f-4fb8-aa63-768ee3ee47ea",
   "metadata": {},
   "source": [
    "**Run Inference**\n",
    "\n",
    "- Runs inference on the Africa continent (plus some part of Asia)\n",
    "- Downloads and run inference on 2,120 HLS tiles"
   ]
  },
  {
   "cell_type": "code",
   "execution_count": null,
   "id": "YgxyC5GnvjJU",
   "metadata": {
    "collapsed": true,
    "id": "YgxyC5GnvjJU",
    "jupyter": {
     "outputs_hidden": true
    },
    "tags": []
   },
   "outputs": [],
   "source": [
    "!gsutil -m cp -r gs://instageo/checkpoints/locust_breeding_ckpt .\n",
    "!gsutil cp gs://instageo/utils/africa_prediction_template.csv .\n",
    "!mkdir -p inference/2023-01"
   ]
  },
  {
   "cell_type": "markdown",
   "id": "9c30afd0-73ec-4eb1-b9c1-a2d36475eae7",
   "metadata": {},
   "source": [
    "**Create Inference Data**\n",
    "\n",
    "During inference we only download HLS tiles and irectly runinference on them using the sliding window inference feature."
   ]
  },
  {
   "cell_type": "code",
   "execution_count": null,
   "id": "8f76b3ea-8ef7-473b-8f2e-72d493fdba03",
   "metadata": {
    "colab": {
     "base_uri": "https://localhost:8080/"
    },
    "collapsed": true,
    "id": "8f76b3ea-8ef7-473b-8f2e-72d493fdba03",
    "jupyter": {
     "outputs_hidden": true
    },
    "outputId": "f623f2a0-77b2-46c8-aa5a-586452c84c9f",
    "tags": []
   },
   "outputs": [],
   "source": [
    "!python -m \"instageo.data.chip_creator\" \\\n",
    "    --dataframe_path=\"africa_prediction_template.csv\" \\\n",
    "    --output_directory=\"inference/2023-01\" \\\n",
    "    --min_count=1 \\\n",
    "    --no_data_value=-1 \\\n",
    "    --temporal_tolerance=3 \\\n",
    "    --temporal_step=30 \\\n",
    "    --num_steps=3 \\\n",
    "    --download_only"
   ]
  },
  {
   "cell_type": "markdown",
   "id": "65e86341-0717-458f-b061-3e957ce8536d",
   "metadata": {},
   "source": [
    "**Run Inference**"
   ]
  },
  {
   "cell_type": "code",
   "execution_count": null,
   "id": "JJXq8oWNAr1w",
   "metadata": {
    "colab": {
     "base_uri": "https://localhost:8080/"
    },
    "id": "JJXq8oWNAr1w",
    "outputId": "74f43e30-f642-4eb2-ca6f-64f9343a275c",
    "tags": []
   },
   "outputs": [],
   "source": [
    "!python -m instageo.model.run --config-name=locust \\\n",
    "    root_dir='inference/2023-01' \\\n",
    "    test_filepath='hls_dataset.json' \\\n",
    "    train.batch_size=16 \\\n",
    "    test.mask_cloud=True \\\n",
    "    checkpoint_path='locust_breeding_ckpt/instageo_epoch-02-val_iou-0.69.ckpt' \\\n",
    "    mode=predict"
   ]
  },
  {
   "cell_type": "markdown",
   "id": "8d79e412-8176-411a-8a73-6068e22a0d25",
   "metadata": {},
   "source": [
    "## InstaGeo - Apps\n",
    "\n",
    "Visualize predictions my moving HLS prediction GeoTiff files to an appropriate directory."
   ]
  },
  {
   "cell_type": "code",
   "execution_count": null,
   "id": "8a904882-cde9-40c8-affb-f988892e5183",
   "metadata": {
    "tags": []
   },
   "outputs": [],
   "source": [
    "!mkdir -p predictions/2023/1\n",
    "!mv inference/2023-01/predictions/* content/predictions/2023/1"
   ]
  },
  {
   "cell_type": "code",
   "execution_count": null,
   "id": "tQGnk67MY6Cd",
   "metadata": {
    "colab": {
     "base_uri": "https://localhost:8080/"
    },
    "id": "tQGnk67MY6Cd",
    "outputId": "8b7a5935-7817-40f3-97d6-94a0ea2f69ef",
    "tags": []
   },
   "outputs": [],
   "source": [
    "!npm install localtunnel"
   ]
  },
  {
   "cell_type": "code",
   "execution_count": null,
   "id": "BeJsQzkeBNm7",
   "metadata": {
    "colab": {
     "base_uri": "https://localhost:8080/"
    },
    "collapsed": true,
    "id": "BeJsQzkeBNm7",
    "jupyter": {
     "outputs_hidden": true
    },
    "outputId": "d4488061-d390-4c9e-c10c-bdd4c0222f93",
    "tags": []
   },
   "outputs": [],
   "source": [
    "!nohup streamlit run InstaGeo/instageo/apps/app.py --server.address=localhost &"
   ]
  },
  {
   "cell_type": "markdown",
   "id": "48459844-9277-473b-8cd8-e47691c59c0a",
   "metadata": {},
   "source": [
    "Retrieve your IP address which is the password of the localtunnel"
   ]
  },
  {
   "cell_type": "code",
   "execution_count": null,
   "id": "S5rCS-lVZiWe",
   "metadata": {
    "colab": {
     "base_uri": "https://localhost:8080/"
    },
    "id": "S5rCS-lVZiWe",
    "outputId": "cbd68bed-b165-4fd3-8c87-14a5dcad4dbc",
    "tags": []
   },
   "outputs": [],
   "source": [
    "import urllib\n",
    "print(\"Password/Enpoint IP for localtunnel is:\",urllib.request.urlopen('https://ipv4.icanhazip.com').read().decode('utf8').strip(\"\\n\"))"
   ]
  },
  {
   "cell_type": "code",
   "execution_count": null,
   "id": "bB61RRBNY-48",
   "metadata": {
    "colab": {
     "base_uri": "https://localhost:8080/"
    },
    "id": "bB61RRBNY-48",
    "outputId": "28bb4e8b-56c9-454c-89f2-47f576a5723b",
    "tags": []
   },
   "outputs": [],
   "source": [
    "!npx localtunnel --port 8501"
   ]
  },
  {
   "cell_type": "code",
   "execution_count": null,
   "id": "3c44bc28-bc5d-43d8-aad8-1e69bace9b0f",
   "metadata": {},
   "outputs": [],
   "source": []
  }
 ],
 "metadata": {
  "accelerator": "GPU",
  "colab": {
   "gpuType": "T4",
   "provenance": []
  },
  "environment": {
   "kernel": "python3",
   "name": "tf2-cpu.2-11.m115",
   "type": "gcloud",
   "uri": "gcr.io/deeplearning-platform-release/tf2-cpu.2-11:m115"
  },
  "kernelspec": {
   "display_name": "Python 3",
   "language": "python",
   "name": "python3"
  },
  "language_info": {
   "codemirror_mode": {
    "name": "ipython",
    "version": 3
   },
   "file_extension": ".py",
   "mimetype": "text/x-python",
   "name": "python",
   "nbconvert_exporter": "python",
   "pygments_lexer": "ipython3",
   "version": "3.10.13"
  }
 },
 "nbformat": 4,
 "nbformat_minor": 5
}
