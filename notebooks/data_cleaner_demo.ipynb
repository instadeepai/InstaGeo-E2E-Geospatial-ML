{
  "cells": [
    {
      "cell_type": "markdown",
      "metadata": {},
      "source": [
        "# InstaGeo Data Cleaner Demo\n",
        "\n",
        "This notebook demonstrates how to use the `data_cleaner.py` module to clean and filter satellite image chips and segmentation maps. The data cleaner helps improve dataset quality by removing low-quality chips and cleaning segmentation maps.\n",
        "\n",
        "## Overview\n",
        "- Filters chips based on no-data pixel thresholds\n",
        "- Supports different cleaning methods (buffer, limit)\n",
        "- Handles observation point-based cleaning\n",
        "\n",
        "## Prerequisites\n",
        "1. **InstaGeo installed** - Make sure you have InstaGeo properly installed\n",
        "2. **Dataset CSV file** - You can create this by running examples from the [Chip Creator Demo Notebook](chip_creator_demo.ipynb)\n",
        "3. **Generated chips and segmentation maps** - These are created by the chip creator pipeline (see Chip Creator Demo)\n",
        "4. **Observation points CSV** - For segmentation map adjustment (see Chip Creator Demo for observations points)\n",
        "\n",
        "  \n",
        "> **💡 Tip**: Run the examples in the [Chip Creator Demo Notebook](chip_creator_demo.ipynb) or [Raster Chip Creator Demo Notebook](raster_chip_creator_demo.ipynb) first to generate sample chips and segmentation maps that you can then clean with this notebook.\n"
      ]
    },
    {
      "cell_type": "markdown",
      "metadata": {},
      "source": [
        "## Core Functions and Use Cases\n",
        "The data cleaner provides three main functions that address different quality issues:\n",
        "\n",
        "### 1. Quality Filtering\n",
        "**Purpose**: Remove chips with too many no-data pixels that would hurt model training.\n",
        "\n",
        "**Why it's important**:\n",
        "- **Prevents model confusion**: Chips with excessive no-data pixels provide poor training signals\n",
        "- **Improves training efficiency**: Removes samples that don't contribute meaningful information\n",
        "\n",
        "**Example use case**:\n"
      ]
    },
    {
      "cell_type": "code",
      "execution_count": null,
      "metadata": {},
      "outputs": [],
      "source": [
        "# Remove chips with 2%+ no-data pixels\n",
        "!mkdir cleaned_output\n",
        "!python -m instageo.data.data_cleaner \\\n",
        "    --chips_dataset_csv=\"chip_output/hls_cloud_filtered/hls_raster_dataset.csv\" \\\n",
        "    --output_chips_dataset_csv=\"cleaned_output/cleaned_dataset.csv\" \\\n",
        "    --drop_chips=True \\\n",
        "    --drop_chips_strategy=\"any\" \\\n",
        "    --no_data_threshold=0.02 \\\n",
        "    --no_data_value=0"
      ]
    },
    {
      "cell_type": "markdown",
      "metadata": {},
      "source": [
        "### 2. Spatial Context Enhancement\n",
        "**Purpose**: Expand segmentation maps around observation pixels to provide spatial context for training. We will assign pixel values to pixels in the neighborhood.\n",
        "\n",
        "**Why it's important**:\n",
        "- **Captures spatial patterns**: In our context, original records don't usually occur at single points but in spatial neighborhoods\n",
        "- **Improves model robustness**: Models learn better with spatial context rather than isolated points\n",
        "- **Handles GPS uncertainty**: Observation points may not be perfectly aligned with pixel centers\n",
        "- **Enables better generalization**: Models trained on buffered data could generalize better to new locations\n",
        "\n",
        "**Example use case**:"
      ]
    },
    {
      "cell_type": "code",
      "execution_count": null,
      "metadata": {},
      "outputs": [],
      "source": [
        "# Create a buffer around observation pixels (window_size=3 --> ~0.2km buffer radius)\n",
        "# if `seg_map_output_dir` is not provided, the original segmentation map files will be overwritten\n",
        "!python -m instageo.data.data_cleaner \\\n",
        "    --chips_dataset_csv=\"cleaned_output/cleaned_dataset.csv\" \\\n",
        "    --output_chips_dataset_csv=\"cleaned_output/buffered_dataset.csv\" \\\n",
        "    --seg_map_output_dir=\"cleaned_output/seg_maps_win_3\" \\\n",
        "    --clean_seg_maps=True \\\n",
        "    --cleaning_method=\"buffer\" \\\n",
        "    --window_size=3 \\\n",
        "    --ignore_index=-1\\\n",
        "    --no_data_value=0"
      ]
    },
    {
      "cell_type": "markdown",
      "metadata": {},
      "source": [
        "### 3. Precise Point-Based Cleaning\n",
        "**Purpose**: Restrict segmentation maps to only observation points pixels.\n",
        "\n",
        "**Why it could be useful**:\n",
        "- **Prevents false positives**: Eliminates background noise that could confuse a model during training.\n",
        "- **Focuses training**: Model learns only from verified observation locations\n",
        "- **Reduces overfitting**: Prevents model from learning spurious patterns in unlabeled areas\n",
        "- **Enables point-based evaluation**: Perfect for tasks where only specific locations matter\n",
        "\n",
        "**Normal Behavior**:\n",
        "When observation points are found within the segmentation map bounds\n",
        "- Observation pixels: Keep their original values (1, 2, 3, etc.)\n",
        "- Non-observation pixels: Set to ignore_index (-1 for instance)\n",
        "- Result: Segmentation map with mostly -1 values and a few pixels with actual observation values\n",
        "- Training: Model will ignore -1 pixels and learns only from observation pixels\n",
        "  \n",
        "**Edge Case**: \n",
        "No Observations Found\n",
        "\n",
        "If no observation points are found within the bounds of a segmentation map, the corresponding row is removed from the output CSV\n",
        "\n",
        "**Example use case**:\n"
      ]
    },
    {
      "cell_type": "code",
      "execution_count": null,
      "metadata": {},
      "outputs": [],
      "source": [
        "# Let's generate a \"verified\" dataset with confirmed observation points.\n",
        "# We will just sample from the original observation points CSV file we created in the Chip Creator Demo.\n",
        "# We will also use the buffered dataset we created in the previous step.\n",
        "import pandas as pd\n",
        "\n",
        "# Sample 10 random observation points from the original observation points CSV file\n",
        "original_obs_points = pd.read_csv(\"demo_data/sample_observations.csv\")\n",
        "sampled_obs_points = original_obs_points.sample(n=45)\n",
        "# Create a new CSV file with the sampled observation points\n",
        "sampled_obs_points.to_csv(\"cleaned_output/verified_observations.csv\", index=False)"
      ]
    },
    {
      "cell_type": "code",
      "execution_count": null,
      "metadata": {},
      "outputs": [],
      "source": [
        "# Limit segmentation maps to exact observation points only\n",
        "# if `seg_map_output_dir` is not provided, the original segmentation map files will be overwritten\n",
        "\n",
        "!python -m instageo.data.data_cleaner \\\n",
        "    --chips_dataset_csv=\"cleaned_output/buffered_dataset.csv\" \\\n",
        "    --output_chips_dataset_csv=\"cleaned_output/verified_dataset.csv\" \\\n",
        "    --seg_map_output_dir=\"cleaned_output/verified_seg_maps\" \\\n",
        "    --clean_seg_maps=True \\\n",
        "    --cleaning_method=\"limit\" \\\n",
        "    --observation_points_csv=\"cleaned_output/verified_observations.csv\" \\\n",
        "    --ignore_index=-1\n"
      ]
    },
    {
      "cell_type": "markdown",
      "metadata": {},
      "source": [
        "### When to Use Each Option\n",
        "\n",
        "| Function | Use When | Example Scenario |\n",
        "|----------|----------|------------------|\n",
        "| Drop entries from dataset | You have chips with many no-data pixels (or want to exclude chips with no-data value over a specific threshold) | Cloud-covered satellite images that have been masked already |\n",
        "| Buffer segmentation maps | You need spatial context around observations (note that you can use window size > 0 directly when using the chip creator to have observation pixels buffered and you could benefit directly from cloud masking if enabled.) | Land cover classification, environmental monitoring |\n",
        "| Limit segmentation maps to specific points | You want precise point-based pixels that are kept in the segmentation map. | Precise location mapping, evaluation over specific points |"
      ]
    },
    {
      "cell_type": "markdown",
      "metadata": {},
      "source": [
        "### 🔗 Related Demos:\n",
        "- `chip_creator_demo.ipynb`: Point-based chip creation\n",
        "- `raster_chip_creator_demo.ipynb`: Raster-based chip creation\n",
        "- `data_splitter_demo.ipynb`: Data splitting strategies"
      ]
    }
  ],
  "metadata": {
    "kernelspec": {
      "display_name": ".venv",
      "language": "python",
      "name": "python3"
    },
    "language_info": {
      "codemirror_mode": {
        "name": "ipython",
        "version": 3
      },
      "file_extension": ".py",
      "mimetype": "text/x-python",
      "name": "python",
      "nbconvert_exporter": "python",
      "pygments_lexer": "ipython3",
      "version": "3.11.13"
    }
  },
  "nbformat": 4,
  "nbformat_minor": 2
}
